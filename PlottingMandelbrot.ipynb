{
 "cells": [
  {
   "cell_type": "markdown",
   "metadata": {
    "nbgrader": {
     "grade": false,
     "locked": false,
     "solution": false
    },
    "slideshow": {
     "slide_type": "-"
    }
   },
   "source": [
    "## Plotting the Mandelbrot Fractal"
   ]
  },
  {
   "cell_type": "markdown",
   "metadata": {},
   "source": [
    "A function that computes the Mandelbrot fractal using the Mandelbrot iteration:\n",
    "\n",
    "```\n",
    "N_max = 50\n",
    "some_threshold = 50\n",
    "\n",
    "c = x + 1j*y\n",
    "\n",
    "z = c\n",
    "for v in range(N_max):\n",
    "  z = z**2 + c\n",
    "```\n",
    "\n",
    "A point `(x,y)` belongs to the Mandelbrot set if `abs(z) < some_threshold`\n",
    "\n",
    "The function;\n",
    "\n",
    "1. Constructs an array of `c = x + 1j*y` values in the range `x = [-2, 1], y = [-1.5, 1.5]`\n",
    "\n",
    "2. Forms a 2-D boolean mask indicating which points are in the set\n",
    " \n",
    "Returns the 2-D boolean mask. \n"
   ]
  },
  {
   "cell_type": "code",
   "execution_count": 2,
   "metadata": {
    "nbgrader": {
     "grade": true,
     "grade_id": "Q8",
     "locked": false,
     "points": 5,
     "solution": true
    }
   },
   "outputs": [
    {
     "name": "stderr",
     "output_type": "stream",
     "text": [
      "/Users/derin/anaconda/lib/python3.6/site-packages/ipykernel_launcher.py:13: RuntimeWarning: overflow encountered in square\n",
      "  del sys.path[0]\n",
      "/Users/derin/anaconda/lib/python3.6/site-packages/ipykernel_launcher.py:13: RuntimeWarning: invalid value encountered in square\n",
      "  del sys.path[0]\n",
      "/Users/derin/anaconda/lib/python3.6/site-packages/ipykernel_launcher.py:29: RuntimeWarning: invalid value encountered in less\n"
     ]
    },
    {
     "data": {
      "image/png": "[encoded data removed]",
      "text/plain": [
       "<matplotlib.figure.Figure at 0x10d4615f8>"
      ]
     },
     "metadata": {},
     "output_type": "display_data"
    }
   ],
   "source": [
    "%matplotlib inline\n",
    "import numpy as np\n",
    "import matplotlib.pyplot as plt\n",
    "\n",
    "N_max = 50\n",
    "some_threshold = 50\n",
    "\n",
    "def mandelbrot_set():\n",
    "\n",
    "    def mandelbrot_iteration(c):\n",
    "        z = c\n",
    "        for v in range(N_max):\n",
    "            z = z**2 + c\n",
    "        return z\n",
    "\n",
    "    xpoints = 200\n",
    "    ypoints = 200\n",
    "    xv = np.linspace(-2, 1, xpoints)\n",
    "    yv = np.linspace(-1.5, 1.5, ypoints)\n",
    "\n",
    "    c = np.zeros([xpoints, ypoints], complex)\n",
    "    for row in range(xpoints):\n",
    "        c[row] = xv\n",
    "        for i in range(ypoints):\n",
    "            c[i] = c[row] + 1j*yv[i]\n",
    "\n",
    "    z = mandelbrot_iteration(c)\n",
    "\n",
    "    mask = abs(z) < some_threshold\n",
    "\n",
    "    return mask\n",
    "\n",
    "mask = mandelbrot_set()\n",
    "plt.imshow(mask, extent=[-2, 1, -1.5, 1.5]) ## mask instead of mask.T\n",
    "plt.gray()\n",
    "plt.show()"
   ]
  }
 ],
 "metadata": {
  "anaconda-cloud": {},
  "celltoolbar": "Create Assignment",
  "kernelspec": {
   "display_name": "Python 3",
   "language": "python",
   "name": "python3"
  },
  "language_info": {
   "codemirror_mode": {
    "name": "ipython",
    "version": 3
   },
   "file_extension": ".py",
   "mimetype": "text/x-python",
   "name": "python",
   "nbconvert_exporter": "python",
   "pygments_lexer": "ipython3",
   "version": "3.6.1"
  }
 },
 "nbformat": 4,
 "nbformat_minor": 1
}
